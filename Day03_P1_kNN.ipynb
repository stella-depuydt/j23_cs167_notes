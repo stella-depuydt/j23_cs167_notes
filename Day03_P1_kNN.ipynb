{
  "cells": [
    {
      "cell_type": "markdown",
      "metadata": {
        "id": "view-in-github",
        "colab_type": "text"
      },
      "source": [
        "<a href=\"https://colab.research.google.com/github/stella-depuydt/j23_cs167_notes/blob/main/Day03_P1_kNN.ipynb\" target=\"_parent\"><img src=\"https://colab.research.google.com/assets/colab-badge.svg\" alt=\"Open In Colab\"/></a>"
      ]
    },
    {
      "cell_type": "markdown",
      "metadata": {
        "id": "eCJ3WrwuXs10"
      },
      "source": [
        "# CS167: Day03 \n",
        "## Part 1: k-Nearest-Neighbor\n",
        "\n",
        "#### CS167: Machine Learning, J-Term 2023\n",
        "\n",
        "Thursday, January 5th, 2023 -- Session I (9:00-10:15)\n",
        "\n",
        "[⏮ Day02 Part 2](https://github.com/merriekay/j23_cs167_notes/blob/main/Day02_P2_Pandas_Exercises.ipynb) | [Day03 Part 2⏩]()"
      ]
    },
    {
      "cell_type": "markdown",
      "metadata": {
        "id": "CeiCDA-AXs14"
      },
      "source": [
        "## Helpful Links:\n",
        "📆 [Course Schedule](https://docs.google.com/spreadsheets/d/e/2PACX-1vStj3FCEJqloUMLn2VtHa4yy1ILY6WvABhu4jd4cVUpPGkrx1mEjfTFmd77DMESR9HJ-8UBxgMDJL06/pubhtml?gid=0&single=true) | 🙋[PollEverywhere](https://pollev.com/meredithmoore011) | 📜 [Syllabus](https://analytics.drake.edu/~moore/j23_cs167/Syllabus.html)\n"
      ]
    },
    {
      "cell_type": "markdown",
      "metadata": {
        "id": "aTG5gwRPXs15"
      },
      "source": [
        "# Overview of Today:\n",
        "\n",
        "Part 1: Notebook #1 questions, k-Nearest Neighbros\n",
        "\n",
        "Part 2: Missing Data Handling, Normalization"
      ]
    },
    {
      "cell_type": "markdown",
      "metadata": {
        "id": "hPqzVZ_wXs15"
      },
      "source": [
        "# Admin Stuff\n",
        "\n",
        "You should be working on:\n",
        "- Notebook #1, is due tonight by 11:59 pm. \n",
        "    - to submit, copy and paste the link to your github repository to Blackboard. My link would look like: https://github.com/j23-cs167/notebook-1-python-pandas-and-pokemon-merriekay, but yours will have your GitHub username rather than 'merriekay'\n",
        "- [Notebook #2: kNN and Normalization](https://classroom.github.com/a/ZihGOnY-) is released today, but will be due on Friday 1/6 by 11:59pm.\n",
        "- Heads up that Quiz #1 will be released on Friday after class and will be due Monday by 11:59pm. \n"
      ]
    },
    {
      "cell_type": "markdown",
      "metadata": {
        "id": "yLSXUlOnXs16"
      },
      "source": [
        "## Before we get started, let's load in our datasets:"
      ]
    },
    {
      "cell_type": "code",
      "execution_count": null,
      "metadata": {
        "id": "vDy1lPW3Xs16"
      },
      "outputs": [],
      "source": [
        "#run this cell if you're using Colab:\n",
        "from google.colab import drive\n",
        "drive.mount('/content/drive')"
      ]
    },
    {
      "cell_type": "code",
      "execution_count": null,
      "metadata": {
        "id": "LuZniV2zXs17",
        "outputId": "16a28166-0695-4884-97cb-ed949e8d866b"
      },
      "outputs": [
        {
          "data": {
            "text/html": [
              "<div>\n",
              "<style scoped>\n",
              "    .dataframe tbody tr th:only-of-type {\n",
              "        vertical-align: middle;\n",
              "    }\n",
              "\n",
              "    .dataframe tbody tr th {\n",
              "        vertical-align: top;\n",
              "    }\n",
              "\n",
              "    .dataframe thead th {\n",
              "        text-align: right;\n",
              "    }\n",
              "</style>\n",
              "<table border=\"1\" class=\"dataframe\">\n",
              "  <thead>\n",
              "    <tr style=\"text-align: right;\">\n",
              "      <th></th>\n",
              "      <th>survived</th>\n",
              "      <th>pclass</th>\n",
              "      <th>sex</th>\n",
              "      <th>age</th>\n",
              "      <th>sibsp</th>\n",
              "      <th>parch</th>\n",
              "      <th>fare</th>\n",
              "      <th>embarked</th>\n",
              "      <th>class</th>\n",
              "      <th>who</th>\n",
              "      <th>adult_male</th>\n",
              "      <th>deck</th>\n",
              "      <th>embark_town</th>\n",
              "      <th>alive</th>\n",
              "      <th>alone</th>\n",
              "    </tr>\n",
              "  </thead>\n",
              "  <tbody>\n",
              "    <tr>\n",
              "      <th>0</th>\n",
              "      <td>0</td>\n",
              "      <td>3</td>\n",
              "      <td>male</td>\n",
              "      <td>22.0</td>\n",
              "      <td>1</td>\n",
              "      <td>0</td>\n",
              "      <td>7.2500</td>\n",
              "      <td>S</td>\n",
              "      <td>Third</td>\n",
              "      <td>man</td>\n",
              "      <td>True</td>\n",
              "      <td>NaN</td>\n",
              "      <td>Southampton</td>\n",
              "      <td>no</td>\n",
              "      <td>False</td>\n",
              "    </tr>\n",
              "    <tr>\n",
              "      <th>1</th>\n",
              "      <td>1</td>\n",
              "      <td>1</td>\n",
              "      <td>female</td>\n",
              "      <td>38.0</td>\n",
              "      <td>1</td>\n",
              "      <td>0</td>\n",
              "      <td>71.2833</td>\n",
              "      <td>C</td>\n",
              "      <td>First</td>\n",
              "      <td>woman</td>\n",
              "      <td>False</td>\n",
              "      <td>C</td>\n",
              "      <td>Cherbourg</td>\n",
              "      <td>yes</td>\n",
              "      <td>False</td>\n",
              "    </tr>\n",
              "    <tr>\n",
              "      <th>2</th>\n",
              "      <td>1</td>\n",
              "      <td>3</td>\n",
              "      <td>female</td>\n",
              "      <td>26.0</td>\n",
              "      <td>0</td>\n",
              "      <td>0</td>\n",
              "      <td>7.9250</td>\n",
              "      <td>S</td>\n",
              "      <td>Third</td>\n",
              "      <td>woman</td>\n",
              "      <td>False</td>\n",
              "      <td>NaN</td>\n",
              "      <td>Southampton</td>\n",
              "      <td>yes</td>\n",
              "      <td>True</td>\n",
              "    </tr>\n",
              "    <tr>\n",
              "      <th>3</th>\n",
              "      <td>1</td>\n",
              "      <td>1</td>\n",
              "      <td>female</td>\n",
              "      <td>35.0</td>\n",
              "      <td>1</td>\n",
              "      <td>0</td>\n",
              "      <td>53.1000</td>\n",
              "      <td>S</td>\n",
              "      <td>First</td>\n",
              "      <td>woman</td>\n",
              "      <td>False</td>\n",
              "      <td>C</td>\n",
              "      <td>Southampton</td>\n",
              "      <td>yes</td>\n",
              "      <td>False</td>\n",
              "    </tr>\n",
              "    <tr>\n",
              "      <th>4</th>\n",
              "      <td>0</td>\n",
              "      <td>3</td>\n",
              "      <td>male</td>\n",
              "      <td>35.0</td>\n",
              "      <td>0</td>\n",
              "      <td>0</td>\n",
              "      <td>8.0500</td>\n",
              "      <td>S</td>\n",
              "      <td>Third</td>\n",
              "      <td>man</td>\n",
              "      <td>True</td>\n",
              "      <td>NaN</td>\n",
              "      <td>Southampton</td>\n",
              "      <td>no</td>\n",
              "      <td>True</td>\n",
              "    </tr>\n",
              "  </tbody>\n",
              "</table>\n",
              "</div>"
            ],
            "text/plain": [
              "   survived  pclass     sex   age  sibsp  parch     fare embarked  class  \\\n",
              "0         0       3    male  22.0      1      0   7.2500        S  Third   \n",
              "1         1       1  female  38.0      1      0  71.2833        C  First   \n",
              "2         1       3  female  26.0      0      0   7.9250        S  Third   \n",
              "3         1       1  female  35.0      1      0  53.1000        S  First   \n",
              "4         0       3    male  35.0      0      0   8.0500        S  Third   \n",
              "\n",
              "     who  adult_male deck  embark_town alive  alone  \n",
              "0    man        True  NaN  Southampton    no  False  \n",
              "1  woman       False    C    Cherbourg   yes  False  \n",
              "2  woman       False  NaN  Southampton   yes   True  \n",
              "3  woman       False    C  Southampton   yes  False  \n",
              "4    man        True  NaN  Southampton    no   True  "
            ]
          },
          "execution_count": 3,
          "metadata": {},
          "output_type": "execute_result"
        }
      ],
      "source": [
        "#import the data:\n",
        "#make sure the path on the line below corresponds to the path where you put your dataset.\n",
        "import pandas as pd\n",
        "path = 'datasets/titanic.csv'\n",
        "titanic = pd.read_csv(path)"
      ]
    },
    {
      "cell_type": "code",
      "execution_count": null,
      "metadata": {
        "id": "Omqw__qUXs18",
        "outputId": "8509940e-ec5a-4ce9-b74e-5345b2adf59c"
      },
      "outputs": [
        {
          "data": {
            "text/html": [
              "<div>\n",
              "<style scoped>\n",
              "    .dataframe tbody tr th:only-of-type {\n",
              "        vertical-align: middle;\n",
              "    }\n",
              "\n",
              "    .dataframe tbody tr th {\n",
              "        vertical-align: top;\n",
              "    }\n",
              "\n",
              "    .dataframe thead th {\n",
              "        text-align: right;\n",
              "    }\n",
              "</style>\n",
              "<table border=\"1\" class=\"dataframe\">\n",
              "  <thead>\n",
              "    <tr style=\"text-align: right;\">\n",
              "      <th></th>\n",
              "      <th>sepal length</th>\n",
              "      <th>sepal width</th>\n",
              "      <th>petal length</th>\n",
              "      <th>petal width</th>\n",
              "      <th>species</th>\n",
              "    </tr>\n",
              "  </thead>\n",
              "  <tbody>\n",
              "    <tr>\n",
              "      <th>0</th>\n",
              "      <td>5.1</td>\n",
              "      <td>3.5</td>\n",
              "      <td>1.4</td>\n",
              "      <td>0.2</td>\n",
              "      <td>Iris-setosa</td>\n",
              "    </tr>\n",
              "    <tr>\n",
              "      <th>1</th>\n",
              "      <td>4.9</td>\n",
              "      <td>3.0</td>\n",
              "      <td>1.4</td>\n",
              "      <td>0.2</td>\n",
              "      <td>Iris-setosa</td>\n",
              "    </tr>\n",
              "    <tr>\n",
              "      <th>2</th>\n",
              "      <td>4.7</td>\n",
              "      <td>3.2</td>\n",
              "      <td>1.3</td>\n",
              "      <td>0.2</td>\n",
              "      <td>Iris-setosa</td>\n",
              "    </tr>\n",
              "    <tr>\n",
              "      <th>3</th>\n",
              "      <td>4.6</td>\n",
              "      <td>3.1</td>\n",
              "      <td>1.5</td>\n",
              "      <td>0.2</td>\n",
              "      <td>Iris-setosa</td>\n",
              "    </tr>\n",
              "    <tr>\n",
              "      <th>4</th>\n",
              "      <td>5.0</td>\n",
              "      <td>3.6</td>\n",
              "      <td>1.4</td>\n",
              "      <td>0.2</td>\n",
              "      <td>Iris-setosa</td>\n",
              "    </tr>\n",
              "  </tbody>\n",
              "</table>\n",
              "</div>"
            ],
            "text/plain": [
              "   sepal length  sepal width  petal length  petal width      species\n",
              "0           5.1          3.5           1.4          0.2  Iris-setosa\n",
              "1           4.9          3.0           1.4          0.2  Iris-setosa\n",
              "2           4.7          3.2           1.3          0.2  Iris-setosa\n",
              "3           4.6          3.1           1.5          0.2  Iris-setosa\n",
              "4           5.0          3.6           1.4          0.2  Iris-setosa"
            ]
          },
          "execution_count": 23,
          "metadata": {},
          "output_type": "execute_result"
        }
      ],
      "source": [
        "path = 'datasets/irisData.csv'\n",
        "iris= pd.read_csv(path)\n",
        "iris.head()"
      ]
    },
    {
      "cell_type": "markdown",
      "metadata": {
        "id": "StxOHGJ8Xs19"
      },
      "source": [
        "## 🚩 Notebook #1 Help\n",
        "\n",
        "A few helpful functions for Notebook #1:\n",
        "- `max()` will return the maximum value in a Series\n",
        "- `idxmax()` will return the __index__ of the maximum value "
      ]
    },
    {
      "cell_type": "markdown",
      "metadata": {
        "id": "_FIOpaSXXs1-"
      },
      "source": [
        "## Other functions worth mentioning:\n",
        "- `min()` will return the minimum value in a Series\n",
        "- `mode()` will return the mode--the most common value--of the dataset"
      ]
    },
    {
      "cell_type": "markdown",
      "metadata": {
        "id": "vlmN879WXs1-"
      },
      "source": [
        "# 💬 Review Exercise:\n",
        "\n",
        "Using the Titanic dataset, find how much the oldest passenger on the Titanic paid. "
      ]
    },
    {
      "cell_type": "markdown",
      "metadata": {
        "id": "nqIPV03_Xs1-"
      },
      "source": [
        "## Quick overview:\n",
        "So far, we've talked about:\n",
        "- Intro to ML\n",
        "- Python review\n",
        "- Introduction to Pandas\n",
        "- Handling Missing Data"
      ]
    },
    {
      "cell_type": "markdown",
      "metadata": {
        "id": "o3k4-Hb9Xs1_"
      },
      "source": [
        "## Quick Simple Stats Review:\n",
        "\n",
        "- __mean__: the average, take the sum of elements, and divide by the number of total elements\n",
        "- __median__: The middle number; found by ordering all data poits and picking out the one in the middle (or if there are two numbers in the middle, taking the mean of those two numbers). \n",
        "- __mode__: The most frequent number; the number that occurs the highestnumber of times. \n",
        "\n",
        "### [2,2,3,3,4,4,4]\n",
        "Find the:\n",
        "- mean:\n",
        "- median:\n",
        "- mode:"
      ]
    },
    {
      "cell_type": "markdown",
      "metadata": {
        "id": "tJhKI3YnXs1_"
      },
      "source": [
        "## Machine Learning Variations\n",
        "\n",
        "We are going to learn about a lot of different types of machine learning in CS167. Here are a few categories to look out for: \n",
        "- __classifcation__: identify which category it goes in. Examples: Spam or ham? Eric or Tim? Fish, amphibian, reptile, bird, or mammal\n",
        "- __regression__: real-valued labels. Examples: price of Bitcoin, tomorrow's temperature, etc.\n",
        "- __supervised learning__: data has labels, goal is to predict the labels of new instance. \n",
        "- __unsupervised learning__: data does not have a label, the goal is to analyze/cluster the examples. \n",
        "- __other issues__: missing data, sequential data, outlier anomaly detetion, and many more. "
      ]
    },
    {
      "cell_type": "markdown",
      "metadata": {
        "id": "Hl46-sWrXs1_"
      },
      "source": [
        "## Let's get our data loaded and ready:"
      ]
    },
    {
      "cell_type": "markdown",
      "metadata": {
        "id": "blYUbojpXs2A"
      },
      "source": [
        "## PollEverywhere Q:"
      ]
    },
    {
      "cell_type": "markdown",
      "metadata": {
        "id": "xH9MBXE5Xs2A"
      },
      "source": [
        "Let's take a look at a couple rows of the Iris Dataset:"
      ]
    },
    {
      "cell_type": "code",
      "execution_count": null,
      "metadata": {
        "id": "BQX2r0TzXs2A",
        "outputId": "de21df53-e9f3-476b-db03-409fcaafe6b0"
      },
      "outputs": [
        {
          "data": {
            "text/html": [
              "<div>\n",
              "<style scoped>\n",
              "    .dataframe tbody tr th:only-of-type {\n",
              "        vertical-align: middle;\n",
              "    }\n",
              "\n",
              "    .dataframe tbody tr th {\n",
              "        vertical-align: top;\n",
              "    }\n",
              "\n",
              "    .dataframe thead th {\n",
              "        text-align: right;\n",
              "    }\n",
              "</style>\n",
              "<table border=\"1\" class=\"dataframe\">\n",
              "  <thead>\n",
              "    <tr style=\"text-align: right;\">\n",
              "      <th></th>\n",
              "      <th>sepal length</th>\n",
              "      <th>sepal width</th>\n",
              "      <th>petal length</th>\n",
              "      <th>petal width</th>\n",
              "      <th>species</th>\n",
              "    </tr>\n",
              "  </thead>\n",
              "  <tbody>\n",
              "    <tr>\n",
              "      <th>0</th>\n",
              "      <td>5.1</td>\n",
              "      <td>3.5</td>\n",
              "      <td>1.4</td>\n",
              "      <td>0.2</td>\n",
              "      <td>Iris-setosa</td>\n",
              "    </tr>\n",
              "    <tr>\n",
              "      <th>1</th>\n",
              "      <td>4.9</td>\n",
              "      <td>3.0</td>\n",
              "      <td>1.4</td>\n",
              "      <td>0.2</td>\n",
              "      <td>Iris-setosa</td>\n",
              "    </tr>\n",
              "  </tbody>\n",
              "</table>\n",
              "</div>"
            ],
            "text/plain": [
              "   sepal length  sepal width  petal length  petal width      species\n",
              "0           5.1          3.5           1.4          0.2  Iris-setosa\n",
              "1           4.9          3.0           1.4          0.2  Iris-setosa"
            ]
          },
          "execution_count": 5,
          "metadata": {},
          "output_type": "execute_result"
        }
      ],
      "source": [
        "iris.head(2)"
      ]
    },
    {
      "cell_type": "markdown",
      "metadata": {
        "id": "KaeKtjo2Xs2A"
      },
      "source": [
        "## 🚨 Terminology Alert 🚨\n",
        "Each row in the table represents a __training example__, a previously-seen, known instance of the thing we are trying to model. \n",
        "\n",
        "Each column in the table represents a __feature__, some attribute or variable that each training example has a value for. \n",
        "\n",
        "__Target variable__: the 'feature' we will try to predict(e.g. species)--it's value is unkonwn for any new cases not in the training data.\n",
        "\n",
        "__Predictor variables__: (or just predictors), the features that will be used to make predictions of the target variable. (e.g. `sepal length`, `petal length`, `sepal width`, `petal width`"
      ]
    },
    {
      "cell_type": "markdown",
      "metadata": {
        "id": "nqlXyQ8oXs2B"
      },
      "source": [
        "Remember this question from Day01?\n",
        "\n",
        "- 5.1 cm petal, 7.2 cm sepal\n",
        "\n",
        "<div>\n",
        "<img src=\"https://github.com/merriekay/j23_cs167_notes/blob/main/images/day0_iris_q1.png?raw=1\"/>\n",
        "</div>\n"
      ]
    },
    {
      "cell_type": "markdown",
      "metadata": {
        "id": "Hf7vonFrXs2B"
      },
      "source": [
        "# ✨New Material: "
      ]
    },
    {
      "cell_type": "markdown",
      "metadata": {
        "id": "Q02ds4wvXs2B"
      },
      "source": [
        "# Our First Machine Learning Model: k Nearest Neighbors\n",
        "We're starting with a relatively simple, but foundational, machine learning model, the k-Nearest Neighbors (kNN) algorithm. "
      ]
    },
    {
      "cell_type": "markdown",
      "metadata": {
        "id": "KzxZcwYkXs2B"
      },
      "source": [
        "__k-Nearest-Neighbor Algorihm__: Precict the _most commonly appearing_ class among the __k__ closest training examples."
      ]
    },
    {
      "cell_type": "markdown",
      "metadata": {
        "id": "2s4Oz_naXs2B"
      },
      "source": [
        "## 1-Nearest-Neighbor Algorithm\n",
        "\n",
        "__k-Nearest-Neighbor Algorihm__: Precict the _most commonly appearing_ class among the __k__ closest training examples.\n",
        "- in a 1-NN algorithm k=1\n",
        "\n",
        "### What will a 1NN algorithm predict?\n",
        "\n",
        "\n",
        "<div>\n",
        "<img src=\"https://github.com/merriekay/j23_cs167_notes/blob/main/images/day03_1NN_iris.png?raw=1\" width=450/>\n",
        "</div>"
      ]
    },
    {
      "cell_type": "markdown",
      "metadata": {
        "id": "ZddTtkMwXs2C"
      },
      "source": [
        "It will predict __Iris-versicolor__ because the nearest neighbor (shown by the black line) is Iris-versicolor. "
      ]
    },
    {
      "cell_type": "markdown",
      "metadata": {
        "id": "25ZQBOYQXs2C"
      },
      "source": [
        "## 3-Nearest-Neighbor Algorithm\n",
        "\n",
        "> Wait... why did we skip 2-NN?\n",
        "\n",
        "### What will a 3NN algorithm predict?\n",
        "\n",
        "<div>\n",
        "<img src=\"https://github.com/merriekay/j23_cs167_notes/blob/main/images/day03_3NN_iris.png?raw=1\" width=450/>\n",
        "</div>"
      ]
    },
    {
      "cell_type": "markdown",
      "metadata": {
        "id": "eWCYDkd9Xs2C"
      },
      "source": [
        "In a 3-Nearest Neighbor algorithm k=3. So, let's look at the 3 closest neighbor to our iris.\n",
        "- The 3 cloesest neighbors are: `Iris-versicolor, Iris-virginica, Iris-virginica`\n",
        "- a 3NN algorithm will predict the _most commonly appearing class_ among the k closest neighbors, so it will predict __Iris-virginica__."
      ]
    },
    {
      "cell_type": "markdown",
      "metadata": {
        "id": "u8QhdcASXs2C"
      },
      "source": [
        "## What do you mean by \"closest\"?\n",
        "__k-Nearest-Neighbor Algorihm__: Precict the _most commonly appearing_ class among the __k__ closest training examples.\n",
        "\n",
        "Alright... but how do we determine which training examples are the 'closest'?"
      ]
    },
    {
      "cell_type": "markdown",
      "metadata": {
        "id": "-QiQ_thNXs2C"
      },
      "source": [
        "__defining 'nearness':__ as the machine learning engineer, we get to choose how we define _close_. \n",
        "- What ways can you think of to determine a distane between any two training examples?"
      ]
    },
    {
      "cell_type": "markdown",
      "metadata": {
        "id": "SSVWlvNhXs2C"
      },
      "source": [
        "# Distances:\n",
        "\n",
        "## Euclidean Distance:\n",
        "\n",
        "Example in 2D space: distance between (x1, y1) and (x2, y2) is: \n",
        "\n",
        "## $\\sqrt{(x_1 - x_2)^2 + (y_1 - y_2)^2}$"
      ]
    },
    {
      "cell_type": "markdown",
      "metadata": {
        "id": "azGwDvGSXs2D"
      },
      "source": [
        "## 2D Eucliden Distance Example:\n",
        "Find the distance between (1,2) and (4,6):\n",
        "\n",
        "$\\sqrt{(1 - 4)^2 + (2 - 6)^2}$\n",
        "\n",
        "$\\sqrt{(-3)^2 + (-4)^2}$\n",
        "\n",
        "$\\sqrt{9 + 16}$\n",
        "\n",
        "$\\sqrt{25}$\n",
        "\n",
        "$5$\n"
      ]
    },
    {
      "cell_type": "markdown",
      "metadata": {
        "id": "VmUb9-TGXs2D"
      },
      "source": [
        "## Euclidean Distance in n-Dimensional Space:\n",
        "\n",
        "Suppose features of an example $x$ are denoted $\\langle a_1(x), a_2(x), ... , a_n(x) \\rangle$\n",
        "- where $n$ is the number of features.\n",
        "\n",
        "Then the Euclidean Distance:\n",
        "\n",
        "## $d(x_i, x_j) = \\sqrt{ \\sum_{r=1}^{n} (a_r(x_i) - a_r(x_j))^2}$"
      ]
    },
    {
      "cell_type": "markdown",
      "metadata": {
        "id": "ljBtD_dYXs2D"
      },
      "source": [
        "## $d(x_i, x_j) = \\sqrt{ \\sum_{r=1}^{n} (a_r(x_i) - a_r(x_j))^2}$\n",
        "\n",
        "Example: Suppose we find a new iris with:\n",
        "- 7.2 cm sepal length, 2.5 cm sepal width,\n",
        "- 5.1 cm petal length and 1.5 cm petal width.\n",
        "\n",
        "Here are some rows from the training data:\n",
        "\n",
        "| sepal length | sepal width | petal length | petal width | species        |\n",
        "|--------------|-------------|--------------|-------------|----------------|\n",
        "| 4.6          | 3.2         | 1.4          | 0.2         | Iris-setosa    |\n",
        "| 6.2          | 2.8         | 4.8          | 1.8         | Iris-virginica |"
      ]
    },
    {
      "cell_type": "markdown",
      "metadata": {
        "id": "8NcIVrLGXs2D"
      },
      "source": [
        "## Euclidean Distance Example:\n",
        "<div>\n",
        "<img src=\"https://github.com/merriekay/j23_cs167_notes/blob/main/images/day03_euclidean_ex.png?raw=1\"/>\n",
        "</div>"
      ]
    },
    {
      "cell_type": "markdown",
      "metadata": {
        "id": "gXE1-Xh1Xs2D"
      },
      "source": [
        "## Group Exercise:\n",
        "\n",
        "Unknown Instance:\n",
        "- 7.2 cm sepal length, 2.6 cm sepal width\n",
        "- 5.1 cm petal length and 1.5 cm petal width.\n",
        "\n",
        "If this was our entire set of training examples:\n",
        "\n",
        "| sepal length | sepal width | petal length | petal width | species         |\n",
        "|--------------|-------------|--------------|-------------|-----------------|\n",
        "| 4.6          | 3.2         | 1.4          | 0.2         | Iris-setosa     |\n",
        "| 6.2          | 2.8         | 4.8          | 1.8         | Iris-virginica  |\n",
        "| 6.2          | 2.2         | 4.5          | 1.5         | Iris-versicolor |\n",
        "| 6.3          | 2.7         | 4.9          | 1.8         | Iris-virginica  |\n",
        "\n",
        "### What would the 1-NN version predict? 2-NN? 3-NN? 4-NN?"
      ]
    },
    {
      "cell_type": "markdown",
      "metadata": {
        "id": "Gz-5C_otXs2D"
      },
      "source": [
        "## Distance Functions\n",
        "You can use any distance function you want. Other common distances include:\n",
        "\n",
        "### Manhattan Distance: \n",
        "### $d(x_i, x_j) = \\sum_{r=1}^{n} | a_r(x_i) - a_r(x_j)|$\n",
        "\n",
        "### Minkowski distance: \n",
        "### $d(x_i, x_j) = (\\sum_{r=1}^{n} | a_r(x_i) - a_r(x_j)|^p)^{1/p}$\n",
        "\n",
        "### Or you can make your own:\n",
        "- Online dating use distance scores to predict who you will swipe left/right on\n",
        "- Baseball similarity matrix\n",
        "- etc."
      ]
    },
    {
      "cell_type": "markdown",
      "metadata": {
        "id": "PDFArjSTXs2E"
      },
      "source": [
        "# 💬 Discussion Question:\n",
        "\n",
        "What do we do if the features aren't numbers?\n",
        "- like Titanic `embark_town`... how can we calculate a distance between `Southampton` and `Queenstown`?"
      ]
    },
    {
      "cell_type": "code",
      "execution_count": null,
      "metadata": {
        "id": "AZbHKVrhXs2E",
        "outputId": "8568dc05-7703-4db0-c876-32d972d0be7c"
      },
      "outputs": [
        {
          "data": {
            "text/html": [
              "<div>\n",
              "<style scoped>\n",
              "    .dataframe tbody tr th:only-of-type {\n",
              "        vertical-align: middle;\n",
              "    }\n",
              "\n",
              "    .dataframe tbody tr th {\n",
              "        vertical-align: top;\n",
              "    }\n",
              "\n",
              "    .dataframe thead th {\n",
              "        text-align: right;\n",
              "    }\n",
              "</style>\n",
              "<table border=\"1\" class=\"dataframe\">\n",
              "  <thead>\n",
              "    <tr style=\"text-align: right;\">\n",
              "      <th></th>\n",
              "      <th>survived</th>\n",
              "      <th>pclass</th>\n",
              "      <th>sex</th>\n",
              "      <th>age</th>\n",
              "      <th>sibsp</th>\n",
              "      <th>parch</th>\n",
              "      <th>fare</th>\n",
              "      <th>embarked</th>\n",
              "      <th>class</th>\n",
              "      <th>who</th>\n",
              "      <th>adult_male</th>\n",
              "      <th>deck</th>\n",
              "      <th>embark_town</th>\n",
              "      <th>alive</th>\n",
              "      <th>alone</th>\n",
              "    </tr>\n",
              "  </thead>\n",
              "  <tbody>\n",
              "    <tr>\n",
              "      <th>0</th>\n",
              "      <td>0</td>\n",
              "      <td>3</td>\n",
              "      <td>male</td>\n",
              "      <td>22.0</td>\n",
              "      <td>1</td>\n",
              "      <td>0</td>\n",
              "      <td>7.2500</td>\n",
              "      <td>S</td>\n",
              "      <td>Third</td>\n",
              "      <td>man</td>\n",
              "      <td>True</td>\n",
              "      <td>NaN</td>\n",
              "      <td>Southampton</td>\n",
              "      <td>no</td>\n",
              "      <td>False</td>\n",
              "    </tr>\n",
              "    <tr>\n",
              "      <th>1</th>\n",
              "      <td>1</td>\n",
              "      <td>1</td>\n",
              "      <td>female</td>\n",
              "      <td>38.0</td>\n",
              "      <td>1</td>\n",
              "      <td>0</td>\n",
              "      <td>71.2833</td>\n",
              "      <td>C</td>\n",
              "      <td>First</td>\n",
              "      <td>woman</td>\n",
              "      <td>False</td>\n",
              "      <td>C</td>\n",
              "      <td>Cherbourg</td>\n",
              "      <td>yes</td>\n",
              "      <td>False</td>\n",
              "    </tr>\n",
              "    <tr>\n",
              "      <th>2</th>\n",
              "      <td>1</td>\n",
              "      <td>3</td>\n",
              "      <td>female</td>\n",
              "      <td>26.0</td>\n",
              "      <td>0</td>\n",
              "      <td>0</td>\n",
              "      <td>7.9250</td>\n",
              "      <td>S</td>\n",
              "      <td>Third</td>\n",
              "      <td>woman</td>\n",
              "      <td>False</td>\n",
              "      <td>NaN</td>\n",
              "      <td>Southampton</td>\n",
              "      <td>yes</td>\n",
              "      <td>True</td>\n",
              "    </tr>\n",
              "    <tr>\n",
              "      <th>3</th>\n",
              "      <td>1</td>\n",
              "      <td>1</td>\n",
              "      <td>female</td>\n",
              "      <td>35.0</td>\n",
              "      <td>1</td>\n",
              "      <td>0</td>\n",
              "      <td>53.1000</td>\n",
              "      <td>S</td>\n",
              "      <td>First</td>\n",
              "      <td>woman</td>\n",
              "      <td>False</td>\n",
              "      <td>C</td>\n",
              "      <td>Southampton</td>\n",
              "      <td>yes</td>\n",
              "      <td>False</td>\n",
              "    </tr>\n",
              "    <tr>\n",
              "      <th>4</th>\n",
              "      <td>0</td>\n",
              "      <td>3</td>\n",
              "      <td>male</td>\n",
              "      <td>35.0</td>\n",
              "      <td>0</td>\n",
              "      <td>0</td>\n",
              "      <td>8.0500</td>\n",
              "      <td>S</td>\n",
              "      <td>Third</td>\n",
              "      <td>man</td>\n",
              "      <td>True</td>\n",
              "      <td>NaN</td>\n",
              "      <td>Southampton</td>\n",
              "      <td>no</td>\n",
              "      <td>True</td>\n",
              "    </tr>\n",
              "  </tbody>\n",
              "</table>\n",
              "</div>"
            ],
            "text/plain": [
              "   survived  pclass     sex   age  sibsp  parch     fare embarked  class  \\\n",
              "0         0       3    male  22.0      1      0   7.2500        S  Third   \n",
              "1         1       1  female  38.0      1      0  71.2833        C  First   \n",
              "2         1       3  female  26.0      0      0   7.9250        S  Third   \n",
              "3         1       1  female  35.0      1      0  53.1000        S  First   \n",
              "4         0       3    male  35.0      0      0   8.0500        S  Third   \n",
              "\n",
              "     who  adult_male deck  embark_town alive  alone  \n",
              "0    man        True  NaN  Southampton    no  False  \n",
              "1  woman       False    C    Cherbourg   yes  False  \n",
              "2  woman       False  NaN  Southampton   yes   True  \n",
              "3  woman       False    C  Southampton   yes  False  \n",
              "4    man        True  NaN  Southampton    no   True  "
            ]
          },
          "execution_count": 8,
          "metadata": {},
          "output_type": "execute_result"
        }
      ],
      "source": [
        "path = 'datasets/titanic.csv'\n",
        "titanic = pd.read_csv(path)\n",
        "titanic.head()"
      ]
    },
    {
      "cell_type": "code",
      "execution_count": null,
      "metadata": {
        "id": "mpvqWkaPXs2E",
        "outputId": "c3d4c354-fd93-4b35-c469-2d9420434d46"
      },
      "outputs": [
        {
          "data": {
            "text/html": [
              "<div>\n",
              "<style scoped>\n",
              "    .dataframe tbody tr th:only-of-type {\n",
              "        vertical-align: middle;\n",
              "    }\n",
              "\n",
              "    .dataframe tbody tr th {\n",
              "        vertical-align: top;\n",
              "    }\n",
              "\n",
              "    .dataframe thead th {\n",
              "        text-align: right;\n",
              "    }\n",
              "</style>\n",
              "<table border=\"1\" class=\"dataframe\">\n",
              "  <thead>\n",
              "    <tr style=\"text-align: right;\">\n",
              "      <th></th>\n",
              "      <th>Cherbourg</th>\n",
              "      <th>Queenstown</th>\n",
              "      <th>Southampton</th>\n",
              "    </tr>\n",
              "  </thead>\n",
              "  <tbody>\n",
              "    <tr>\n",
              "      <th>0</th>\n",
              "      <td>0</td>\n",
              "      <td>0</td>\n",
              "      <td>1</td>\n",
              "    </tr>\n",
              "    <tr>\n",
              "      <th>1</th>\n",
              "      <td>1</td>\n",
              "      <td>0</td>\n",
              "      <td>0</td>\n",
              "    </tr>\n",
              "    <tr>\n",
              "      <th>2</th>\n",
              "      <td>0</td>\n",
              "      <td>0</td>\n",
              "      <td>1</td>\n",
              "    </tr>\n",
              "    <tr>\n",
              "      <th>3</th>\n",
              "      <td>0</td>\n",
              "      <td>0</td>\n",
              "      <td>1</td>\n",
              "    </tr>\n",
              "    <tr>\n",
              "      <th>4</th>\n",
              "      <td>0</td>\n",
              "      <td>0</td>\n",
              "      <td>1</td>\n",
              "    </tr>\n",
              "    <tr>\n",
              "      <th>...</th>\n",
              "      <td>...</td>\n",
              "      <td>...</td>\n",
              "      <td>...</td>\n",
              "    </tr>\n",
              "    <tr>\n",
              "      <th>886</th>\n",
              "      <td>0</td>\n",
              "      <td>0</td>\n",
              "      <td>1</td>\n",
              "    </tr>\n",
              "    <tr>\n",
              "      <th>887</th>\n",
              "      <td>0</td>\n",
              "      <td>0</td>\n",
              "      <td>1</td>\n",
              "    </tr>\n",
              "    <tr>\n",
              "      <th>888</th>\n",
              "      <td>0</td>\n",
              "      <td>0</td>\n",
              "      <td>1</td>\n",
              "    </tr>\n",
              "    <tr>\n",
              "      <th>889</th>\n",
              "      <td>1</td>\n",
              "      <td>0</td>\n",
              "      <td>0</td>\n",
              "    </tr>\n",
              "    <tr>\n",
              "      <th>890</th>\n",
              "      <td>0</td>\n",
              "      <td>1</td>\n",
              "      <td>0</td>\n",
              "    </tr>\n",
              "  </tbody>\n",
              "</table>\n",
              "<p>891 rows × 3 columns</p>\n",
              "</div>"
            ],
            "text/plain": [
              "     Cherbourg  Queenstown  Southampton\n",
              "0            0           0            1\n",
              "1            1           0            0\n",
              "2            0           0            1\n",
              "3            0           0            1\n",
              "4            0           0            1\n",
              "..         ...         ...          ...\n",
              "886          0           0            1\n",
              "887          0           0            1\n",
              "888          0           0            1\n",
              "889          1           0            0\n",
              "890          0           1            0\n",
              "\n",
              "[891 rows x 3 columns]"
            ]
          },
          "execution_count": 25,
          "metadata": {},
          "output_type": "execute_result"
        }
      ],
      "source": [
        "pd.get_dummies(titanic.embark_town)"
      ]
    },
    {
      "cell_type": "markdown",
      "metadata": {
        "id": "xhByVGG_Xs2E"
      },
      "source": [
        "# 💬 Discussion Question:\n",
        "\n",
        "What if our __target variable__ is continuous rather than categorical? How would we make a prediction using kNN? \n",
        "- Can we do regression with kNN? If so, how?\n",
        "\n",
        "<div>\n",
        "<img src=\"https://github.com/merriekay/j23_cs167_notes/blob/main/images/day03_btc_price.jpeg?raw=1\" width = 500/>\n",
        "</div>"
      ]
    },
    {
      "cell_type": "markdown",
      "metadata": {
        "id": "5M7NPDzWXs2F"
      },
      "source": [
        "# Let's implement kNN in Python/Pandas: \n",
        "\n",
        "Let's build a 5-nearest-neighbor Iris classifier:\n",
        "\n",
        "To implement this 5NN, we need to do 3 things:\n",
        "1. Calculate the distances from each of the rows to the new instance\n",
        "2. Sort the data by these distances \n",
        "3. Select the k closest training examples and use them to predict the most commonly occuring class of the closest neighbors."
      ]
    },
    {
      "cell_type": "markdown",
      "metadata": {
        "id": "g-d8rj9bXs2F"
      },
      "source": [
        "## 1. Calculate the Distances:\n",
        "Let's start by adding a new column to our `iris` dataframe that is the distance from each existing row to the new instance with:\n",
        "- 5.1 petal length, 7.2 sepal length, 1.5 petal width, and 2.5 sepal width"
      ]
    },
    {
      "cell_type": "code",
      "execution_count": null,
      "metadata": {
        "id": "n1v2xKONXs2F",
        "outputId": "f01ce689-06c0-434f-85d5-014c888ea4f7"
      },
      "outputs": [
        {
          "data": {
            "text/html": [
              "<div>\n",
              "<style scoped>\n",
              "    .dataframe tbody tr th:only-of-type {\n",
              "        vertical-align: middle;\n",
              "    }\n",
              "\n",
              "    .dataframe tbody tr th {\n",
              "        vertical-align: top;\n",
              "    }\n",
              "\n",
              "    .dataframe thead th {\n",
              "        text-align: right;\n",
              "    }\n",
              "</style>\n",
              "<table border=\"1\" class=\"dataframe\">\n",
              "  <thead>\n",
              "    <tr style=\"text-align: right;\">\n",
              "      <th></th>\n",
              "      <th>sepal length</th>\n",
              "      <th>sepal width</th>\n",
              "      <th>petal length</th>\n",
              "      <th>petal width</th>\n",
              "      <th>species</th>\n",
              "      <th>distance_to_new</th>\n",
              "    </tr>\n",
              "  </thead>\n",
              "  <tbody>\n",
              "    <tr>\n",
              "      <th>0</th>\n",
              "      <td>5.1</td>\n",
              "      <td>3.5</td>\n",
              "      <td>1.4</td>\n",
              "      <td>0.2</td>\n",
              "      <td>Iris-setosa</td>\n",
              "      <td>4.559605</td>\n",
              "    </tr>\n",
              "    <tr>\n",
              "      <th>1</th>\n",
              "      <td>4.9</td>\n",
              "      <td>3.0</td>\n",
              "      <td>1.4</td>\n",
              "      <td>0.2</td>\n",
              "      <td>Iris-setosa</td>\n",
              "      <td>4.573839</td>\n",
              "    </tr>\n",
              "    <tr>\n",
              "      <th>2</th>\n",
              "      <td>4.7</td>\n",
              "      <td>3.2</td>\n",
              "      <td>1.3</td>\n",
              "      <td>0.2</td>\n",
              "      <td>Iris-setosa</td>\n",
              "      <td>4.782259</td>\n",
              "    </tr>\n",
              "    <tr>\n",
              "      <th>3</th>\n",
              "      <td>4.6</td>\n",
              "      <td>3.1</td>\n",
              "      <td>1.5</td>\n",
              "      <td>0.2</td>\n",
              "      <td>Iris-setosa</td>\n",
              "      <td>4.665833</td>\n",
              "    </tr>\n",
              "    <tr>\n",
              "      <th>4</th>\n",
              "      <td>5.0</td>\n",
              "      <td>3.6</td>\n",
              "      <td>1.4</td>\n",
              "      <td>0.2</td>\n",
              "      <td>Iris-setosa</td>\n",
              "      <td>4.629255</td>\n",
              "    </tr>\n",
              "  </tbody>\n",
              "</table>\n",
              "</div>"
            ],
            "text/plain": [
              "   sepal length  sepal width  petal length  petal width      species  \\\n",
              "0           5.1          3.5           1.4          0.2  Iris-setosa   \n",
              "1           4.9          3.0           1.4          0.2  Iris-setosa   \n",
              "2           4.7          3.2           1.3          0.2  Iris-setosa   \n",
              "3           4.6          3.1           1.5          0.2  Iris-setosa   \n",
              "4           5.0          3.6           1.4          0.2  Iris-setosa   \n",
              "\n",
              "   distance_to_new  \n",
              "0         4.559605  \n",
              "1         4.573839  \n",
              "2         4.782259  \n",
              "3         4.665833  \n",
              "4         4.629255  "
            ]
          },
          "execution_count": 11,
          "metadata": {},
          "output_type": "execute_result"
        }
      ],
      "source": [
        "import numpy as np\n",
        "\n",
        "iris['distance_to_new'] = np.sqrt(\n",
        "    (5.1 - iris['petal length'])**2 \n",
        "    +(7.2 - iris['sepal length'])**2 \n",
        "    +(1.5 - iris['petal width'])**2\n",
        "    +(2.5 - iris['sepal width'])**2)\n",
        "\n",
        "iris.head()"
      ]
    },
    {
      "cell_type": "markdown",
      "metadata": {
        "id": "thDJ19ZLXs2F"
      },
      "source": [
        "## 2. Sort the data by the distance\n",
        "Let's now sort our data using the built in `sort_values()` function. \n",
        "\n",
        "We want to find the nearest k neighbors, so sorting them in ascending order (which is the default setting for `sort_values()` will work nicely. "
      ]
    },
    {
      "cell_type": "code",
      "execution_count": null,
      "metadata": {
        "id": "c80MgVvCXs2G",
        "outputId": "4a3ae924-dad4-425c-9b49-35ea1cc5ee1f"
      },
      "outputs": [
        {
          "data": {
            "text/html": [
              "<div>\n",
              "<style scoped>\n",
              "    .dataframe tbody tr th:only-of-type {\n",
              "        vertical-align: middle;\n",
              "    }\n",
              "\n",
              "    .dataframe tbody tr th {\n",
              "        vertical-align: top;\n",
              "    }\n",
              "\n",
              "    .dataframe thead th {\n",
              "        text-align: right;\n",
              "    }\n",
              "</style>\n",
              "<table border=\"1\" class=\"dataframe\">\n",
              "  <thead>\n",
              "    <tr style=\"text-align: right;\">\n",
              "      <th></th>\n",
              "      <th>sepal length</th>\n",
              "      <th>sepal width</th>\n",
              "      <th>petal length</th>\n",
              "      <th>petal width</th>\n",
              "      <th>species</th>\n",
              "      <th>distance_to_new</th>\n",
              "    </tr>\n",
              "  </thead>\n",
              "  <tbody>\n",
              "    <tr>\n",
              "      <th>76</th>\n",
              "      <td>6.8</td>\n",
              "      <td>2.8</td>\n",
              "      <td>4.8</td>\n",
              "      <td>1.4</td>\n",
              "      <td>Iris-versicolor</td>\n",
              "      <td>0.591608</td>\n",
              "    </tr>\n",
              "    <tr>\n",
              "      <th>52</th>\n",
              "      <td>6.9</td>\n",
              "      <td>3.1</td>\n",
              "      <td>4.9</td>\n",
              "      <td>1.5</td>\n",
              "      <td>Iris-versicolor</td>\n",
              "      <td>0.700000</td>\n",
              "    </tr>\n",
              "    <tr>\n",
              "      <th>77</th>\n",
              "      <td>6.7</td>\n",
              "      <td>3.0</td>\n",
              "      <td>5.0</td>\n",
              "      <td>1.7</td>\n",
              "      <td>Iris-versicolor</td>\n",
              "      <td>0.741620</td>\n",
              "    </tr>\n",
              "    <tr>\n",
              "      <th>50</th>\n",
              "      <td>7.0</td>\n",
              "      <td>3.2</td>\n",
              "      <td>4.7</td>\n",
              "      <td>1.4</td>\n",
              "      <td>Iris-versicolor</td>\n",
              "      <td>0.836660</td>\n",
              "    </tr>\n",
              "    <tr>\n",
              "      <th>129</th>\n",
              "      <td>7.2</td>\n",
              "      <td>3.0</td>\n",
              "      <td>5.8</td>\n",
              "      <td>1.6</td>\n",
              "      <td>Iris-virginica</td>\n",
              "      <td>0.866025</td>\n",
              "    </tr>\n",
              "  </tbody>\n",
              "</table>\n",
              "</div>"
            ],
            "text/plain": [
              "     sepal length  sepal width  petal length  petal width          species  \\\n",
              "76            6.8          2.8           4.8          1.4  Iris-versicolor   \n",
              "52            6.9          3.1           4.9          1.5  Iris-versicolor   \n",
              "77            6.7          3.0           5.0          1.7  Iris-versicolor   \n",
              "50            7.0          3.2           4.7          1.4  Iris-versicolor   \n",
              "129           7.2          3.0           5.8          1.6   Iris-virginica   \n",
              "\n",
              "     distance_to_new  \n",
              "76          0.591608  \n",
              "52          0.700000  \n",
              "77          0.741620  \n",
              "50          0.836660  \n",
              "129         0.866025  "
            ]
          },
          "execution_count": 14,
          "metadata": {},
          "output_type": "execute_result"
        }
      ],
      "source": [
        "sorted_data = iris.sort_values(['distance_to_new'])\n",
        "sorted_data.iloc[0:5]"
      ]
    },
    {
      "cell_type": "markdown",
      "metadata": {
        "id": "IvK-XDNiXs2G"
      },
      "source": [
        "## 3. Display the most common species among these 5\n"
      ]
    },
    {
      "cell_type": "code",
      "execution_count": null,
      "metadata": {
        "id": "6pR-JOUoXs2G",
        "outputId": "6a4bccb9-44ef-412c-9207-55a6dfbac2b5"
      },
      "outputs": [
        {
          "data": {
            "text/plain": [
              "0    Iris-versicolor\n",
              "dtype: object"
            ]
          },
          "execution_count": 17,
          "metadata": {},
          "output_type": "execute_result"
        }
      ],
      "source": [
        "sorted_data.iloc[0:5]['species'].mode()"
      ]
    },
    {
      "cell_type": "markdown",
      "metadata": {
        "id": "ogi4M9kuXs2G"
      },
      "source": [
        "And Viola! We have successfully implemented our first machine learning model from scratch."
      ]
    },
    {
      "cell_type": "markdown",
      "metadata": {
        "id": "Er8wEGrqXs2G"
      },
      "source": [
        "## Questions to consider:\n",
        "\n",
        "What part of the code would you change to use some other value of k in the kNN?\n",
        "\n",
        "What would you change if you wanted to classify a different new Iris?"
      ]
    },
    {
      "cell_type": "markdown",
      "metadata": {
        "id": "VShK-_W9Xs2G"
      },
      "source": [
        "## Quick Function Refresher:"
      ]
    },
    {
      "cell_type": "code",
      "execution_count": null,
      "metadata": {
        "id": "T2jeD6_OXs2H"
      },
      "outputs": [],
      "source": [
        "# reminder of what a function looks like in Python: \n",
        "\n",
        "def find_min(a_list):\n",
        "    smallest = float(\"inf\")\n",
        "    for element in a_list:\n",
        "        if element < smallest:\n",
        "            smallest=element\n",
        "    return smallest"
      ]
    },
    {
      "cell_type": "code",
      "execution_count": null,
      "metadata": {
        "id": "7usLjljDXs2H",
        "outputId": "f058cac0-62dd-4a87-b135-7c22ad895cec"
      },
      "outputs": [
        {
          "data": {
            "text/plain": [
              "-4"
            ]
          },
          "execution_count": 21,
          "metadata": {},
          "output_type": "execute_result"
        }
      ],
      "source": [
        "find_min([2,5, -4, 54,14, 30])"
      ]
    },
    {
      "cell_type": "markdown",
      "metadata": {
        "id": "hmdr2lA4Xs2H"
      },
      "source": [
        "# Programming Exercise:\n",
        "\n",
        "Rewrite our k-NN code so tht it's a function.\n",
        "\n",
        "Pass the iris measurements (specimen), dataframe, and k as parameters and return the predicted class.\n",
        "\n",
        "Here's some starter code:"
      ]
    },
    {
      "cell_type": "code",
      "execution_count": null,
      "metadata": {
        "id": "EbEEcTCFXs2H"
      },
      "outputs": [],
      "source": [
        "def kNN(specimen, data, k):\n",
        "    # write your code in here to make this function work\n",
        "    \n",
        "    \n",
        "    prediction = 'iris'\n",
        "    return prediction"
      ]
    },
    {
      "cell_type": "markdown",
      "metadata": {
        "id": "mhIjFcJ5Xs2H"
      },
      "source": [
        "# Admin Stuff\n",
        "\n",
        "You should be working on:\n",
        "- Notebook #1, is due tonight by 11:59 pm. \n",
        "    - to submit, copy and paste the link to your github repository to Blackboard. My link would look like: https://github.com/j23-cs167/notebook-1-python-pandas-and-pokemon-merriekay, but yours will have your GitHub username rather than 'merriekay'\n",
        "- [Notebook #2: kNN and Normalization](https://classroom.github.com/a/ZihGOnY-) is released today, but will be due on Friday 1/6 by 11:59pm.\n",
        "- Heads up that Quiz #1 will be released on Friday after class and will be due Monday by 11:59pm. \n"
      ]
    }
  ],
  "metadata": {
    "celltoolbar": "Slideshow",
    "kernelspec": {
      "display_name": "Python 3",
      "language": "python",
      "name": "python3"
    },
    "language_info": {
      "codemirror_mode": {
        "name": "ipython",
        "version": 3
      },
      "file_extension": ".py",
      "mimetype": "text/x-python",
      "name": "python",
      "nbconvert_exporter": "python",
      "pygments_lexer": "ipython3",
      "version": "3.8.3"
    },
    "colab": {
      "provenance": [],
      "include_colab_link": true
    }
  },
  "nbformat": 4,
  "nbformat_minor": 0
}